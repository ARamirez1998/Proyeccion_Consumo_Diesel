{
 "cells": [
  {
   "cell_type": "code",
   "execution_count": 2,
   "id": "bd0a7281",
   "metadata": {},
   "outputs": [],
   "source": [
    "import pandas as pd\n",
    "from sklearn.model_selection import train_test_split\n",
    "from sklearn.linear_model import LinearRegression\n",
    "from sklearn.tree import DecisionTreeRegressor\n",
    "from sklearn.ensemble import RandomForestRegressor, GradientBoostingRegressor\n",
    "from sklearn.preprocessing import StandardScaler\n",
    "from sklearn.metrics import mean_absolute_error, mean_squared_error, r2_score\n",
    "import numpy as np"
   ]
  },
  {
   "cell_type": "code",
   "execution_count": 4,
   "id": "fc766256",
   "metadata": {},
   "outputs": [
    {
     "data": {
      "text/html": [
       "<div>\n",
       "<style scoped>\n",
       "    .dataframe tbody tr th:only-of-type {\n",
       "        vertical-align: middle;\n",
       "    }\n",
       "\n",
       "    .dataframe tbody tr th {\n",
       "        vertical-align: top;\n",
       "    }\n",
       "\n",
       "    .dataframe thead th {\n",
       "        text-align: right;\n",
       "    }\n",
       "</style>\n",
       "<table border=\"1\" class=\"dataframe\">\n",
       "  <thead>\n",
       "    <tr style=\"text-align: right;\">\n",
       "      <th></th>\n",
       "      <th>FECHA</th>\n",
       "      <th>DISPENSADOR</th>\n",
       "      <th>HORA</th>\n",
       "      <th>VEHICULO</th>\n",
       "      <th>FLOTA</th>\n",
       "      <th>GALONES</th>\n",
       "      <th>KILOMETRAJE</th>\n",
       "      <th>ANIO</th>\n",
       "      <th>DIA_SEMANA</th>\n",
       "      <th>MES</th>\n",
       "      <th>DIA</th>\n",
       "      <th>GALONES_POR_KM</th>\n",
       "      <th>VEHICULO_ENC</th>\n",
       "      <th>FLOTA_ENC</th>\n",
       "      <th>PC1</th>\n",
       "      <th>PC2</th>\n",
       "    </tr>\n",
       "  </thead>\n",
       "  <tbody>\n",
       "    <tr>\n",
       "      <th>0</th>\n",
       "      <td>2020-01-01</td>\n",
       "      <td>1</td>\n",
       "      <td>10:35:00</td>\n",
       "      <td>S024</td>\n",
       "      <td>B12M</td>\n",
       "      <td>535680.0</td>\n",
       "      <td>411475.8</td>\n",
       "      <td>2020</td>\n",
       "      <td>2</td>\n",
       "      <td>1</td>\n",
       "      <td>1</td>\n",
       "      <td>1.301851</td>\n",
       "      <td>96</td>\n",
       "      <td>2</td>\n",
       "      <td>-0.007959</td>\n",
       "      <td>0.071349</td>\n",
       "    </tr>\n",
       "    <tr>\n",
       "      <th>1</th>\n",
       "      <td>2020-01-01</td>\n",
       "      <td>1</td>\n",
       "      <td>12:12:00</td>\n",
       "      <td>S029</td>\n",
       "      <td>B12M</td>\n",
       "      <td>541970.0</td>\n",
       "      <td>479353.4</td>\n",
       "      <td>2020</td>\n",
       "      <td>2</td>\n",
       "      <td>1</td>\n",
       "      <td>1</td>\n",
       "      <td>1.130627</td>\n",
       "      <td>101</td>\n",
       "      <td>2</td>\n",
       "      <td>-0.012753</td>\n",
       "      <td>0.287115</td>\n",
       "    </tr>\n",
       "    <tr>\n",
       "      <th>2</th>\n",
       "      <td>2020-01-01</td>\n",
       "      <td>1</td>\n",
       "      <td>12:20:00</td>\n",
       "      <td>S011</td>\n",
       "      <td>B12M</td>\n",
       "      <td>565560.0</td>\n",
       "      <td>463696.8</td>\n",
       "      <td>2020</td>\n",
       "      <td>2</td>\n",
       "      <td>1</td>\n",
       "      <td>1</td>\n",
       "      <td>1.219676</td>\n",
       "      <td>83</td>\n",
       "      <td>2</td>\n",
       "      <td>-0.011493</td>\n",
       "      <td>0.237352</td>\n",
       "    </tr>\n",
       "    <tr>\n",
       "      <th>3</th>\n",
       "      <td>2020-01-01</td>\n",
       "      <td>1</td>\n",
       "      <td>13:10:00</td>\n",
       "      <td>S074</td>\n",
       "      <td>B12M</td>\n",
       "      <td>656140.0</td>\n",
       "      <td>451279.5</td>\n",
       "      <td>2020</td>\n",
       "      <td>2</td>\n",
       "      <td>1</td>\n",
       "      <td>1</td>\n",
       "      <td>1.453955</td>\n",
       "      <td>145</td>\n",
       "      <td>2</td>\n",
       "      <td>-0.010038</td>\n",
       "      <td>0.197900</td>\n",
       "    </tr>\n",
       "    <tr>\n",
       "      <th>4</th>\n",
       "      <td>2020-01-01</td>\n",
       "      <td>1</td>\n",
       "      <td>13:30:00</td>\n",
       "      <td>S015</td>\n",
       "      <td>B12M</td>\n",
       "      <td>428790.0</td>\n",
       "      <td>418781.5</td>\n",
       "      <td>2020</td>\n",
       "      <td>2</td>\n",
       "      <td>1</td>\n",
       "      <td>1</td>\n",
       "      <td>1.023899</td>\n",
       "      <td>87</td>\n",
       "      <td>2</td>\n",
       "      <td>-0.009163</td>\n",
       "      <td>0.094549</td>\n",
       "    </tr>\n",
       "  </tbody>\n",
       "</table>\n",
       "</div>"
      ],
      "text/plain": [
       "        FECHA  DISPENSADOR      HORA VEHICULO FLOTA   GALONES  KILOMETRAJE  \\\n",
       "0  2020-01-01            1  10:35:00     S024  B12M  535680.0     411475.8   \n",
       "1  2020-01-01            1  12:12:00     S029  B12M  541970.0     479353.4   \n",
       "2  2020-01-01            1  12:20:00     S011  B12M  565560.0     463696.8   \n",
       "3  2020-01-01            1  13:10:00     S074  B12M  656140.0     451279.5   \n",
       "4  2020-01-01            1  13:30:00     S015  B12M  428790.0     418781.5   \n",
       "\n",
       "   ANIO  DIA_SEMANA  MES  DIA  GALONES_POR_KM  VEHICULO_ENC  FLOTA_ENC  \\\n",
       "0  2020           2    1    1        1.301851            96          2   \n",
       "1  2020           2    1    1        1.130627           101          2   \n",
       "2  2020           2    1    1        1.219676            83          2   \n",
       "3  2020           2    1    1        1.453955           145          2   \n",
       "4  2020           2    1    1        1.023899            87          2   \n",
       "\n",
       "        PC1       PC2  \n",
       "0 -0.007959  0.071349  \n",
       "1 -0.012753  0.287115  \n",
       "2 -0.011493  0.237352  \n",
       "3 -0.010038  0.197900  \n",
       "4 -0.009163  0.094549  "
      ]
     },
     "execution_count": 4,
     "metadata": {},
     "output_type": "execute_result"
    }
   ],
   "source": [
    "f_diesel = pd.read_csv(r\"C:\\Users\\andre\\OneDrive\\Escritorio\\USFQ\\Fundamentos en Ciencia de Datos\\Proyeccion_Consumo_Diesel\\dataset\\Consumo_Diesel_Model.csv\")\n",
    "f_diesel.head()"
   ]
  },
  {
   "cell_type": "markdown",
   "id": "e3fbfc6d",
   "metadata": {},
   "source": [
    "Definir características (X) y variable objetivo (y)"
   ]
  },
  {
   "cell_type": "code",
   "execution_count": 5,
   "id": "9793c6e7",
   "metadata": {},
   "outputs": [],
   "source": [
    "features = ['KILOMETRAJE', 'GALONES_POR_KM', 'ANIO']  # puedes incluir más\n",
    "target = 'GALONES'\n",
    "\n",
    "X = f_diesel[features]\n",
    "y = f_diesel[target]"
   ]
  },
  {
   "cell_type": "markdown",
   "id": "a284aeb6",
   "metadata": {},
   "source": [
    "Escalado (opcional si usas modelos sensibles a la escala, como LinearRegression y GradientBoosting)"
   ]
  },
  {
   "cell_type": "code",
   "execution_count": 6,
   "id": "5124d25d",
   "metadata": {},
   "outputs": [],
   "source": [
    "scaler = StandardScaler()\n",
    "X_scaled = scaler.fit_transform(X)"
   ]
  },
  {
   "cell_type": "markdown",
   "id": "686af754",
   "metadata": {},
   "source": [
    "Dividir en entrenamiento y prueba."
   ]
  },
  {
   "cell_type": "code",
   "execution_count": 7,
   "id": "0f1916fc",
   "metadata": {},
   "outputs": [],
   "source": [
    "X_train, X_test, y_train, y_test = train_test_split(X_scaled, y, test_size=0.25, random_state=42)"
   ]
  },
  {
   "cell_type": "markdown",
   "id": "5dbf5984",
   "metadata": {},
   "source": [
    "Modelos a evaluar."
   ]
  },
  {
   "cell_type": "code",
   "execution_count": 9,
   "id": "35afe92f",
   "metadata": {},
   "outputs": [],
   "source": [
    "modelos = {\n",
    "    'LinearRegression': LinearRegression(),\n",
    "    'DecisionTreeRegressor': DecisionTreeRegressor(random_state=100),\n",
    "    'RandomForestRegressor': RandomForestRegressor(random_state=100),\n",
    "    'GradientBoostingRegressor': GradientBoostingRegressor(random_state=100),\n",
    "}"
   ]
  },
  {
   "cell_type": "markdown",
   "id": "9b937e95",
   "metadata": {},
   "source": [
    "Procedemos a entrenar y a evaluar"
   ]
  },
  {
   "cell_type": "code",
   "execution_count": 10,
   "id": "eb9c1a06",
   "metadata": {},
   "outputs": [
    {
     "name": "stderr",
     "output_type": "stream",
     "text": [
      "c:\\Users\\andre\\anaconda3\\Lib\\site-packages\\sklearn\\metrics\\_regression.py:492: FutureWarning: 'squared' is deprecated in version 1.4 and will be removed in 1.6. To calculate the root mean squared error, use the function'root_mean_squared_error'.\n",
      "  warnings.warn(\n",
      "c:\\Users\\andre\\anaconda3\\Lib\\site-packages\\sklearn\\metrics\\_regression.py:492: FutureWarning: 'squared' is deprecated in version 1.4 and will be removed in 1.6. To calculate the root mean squared error, use the function'root_mean_squared_error'.\n",
      "  warnings.warn(\n",
      "c:\\Users\\andre\\anaconda3\\Lib\\site-packages\\sklearn\\metrics\\_regression.py:492: FutureWarning: 'squared' is deprecated in version 1.4 and will be removed in 1.6. To calculate the root mean squared error, use the function'root_mean_squared_error'.\n",
      "  warnings.warn(\n",
      "c:\\Users\\andre\\anaconda3\\Lib\\site-packages\\sklearn\\metrics\\_regression.py:492: FutureWarning: 'squared' is deprecated in version 1.4 and will be removed in 1.6. To calculate the root mean squared error, use the function'root_mean_squared_error'.\n",
      "  warnings.warn(\n"
     ]
    }
   ],
   "source": [
    "resultados = {}\n",
    "\n",
    "for nombre, modelo in modelos.items():\n",
    "    modelo.fit(X_train, y_train)\n",
    "    y_pred = modelo.predict(X_test)\n",
    "    \n",
    "    resultados[nombre] = {\n",
    "        'MAE': mean_absolute_error(y_test, y_pred),\n",
    "        'RMSE': mean_squared_error(y_test, y_pred, squared=False),\n",
    "        'R2': r2_score(y_test, y_pred)\n",
    "    }\n"
   ]
  },
  {
   "cell_type": "markdown",
   "id": "ac4faf37",
   "metadata": {},
   "source": [
    "Se procede a obtener los resultados."
   ]
  },
  {
   "cell_type": "code",
   "execution_count": 11,
   "id": "a4ad6602",
   "metadata": {},
   "outputs": [
    {
     "name": "stdout",
     "output_type": "stream",
     "text": [
      "Resultados del rendimiento de los modelos:\n",
      "\n",
      "                                     MAE          RMSE        R2\n",
      "RandomForestRegressor       50627.788493  8.831130e+06  0.963653\n",
      "DecisionTreeRegressor       60404.052506  1.272420e+07  0.924543\n",
      "GradientBoostingRegressor  110749.452584  1.275680e+07  0.924155\n",
      "LinearRegression           545643.078395  3.896687e+07  0.292327\n"
     ]
    }
   ],
   "source": [
    "df_resultados = pd.DataFrame(resultados).T.sort_values(by='RMSE')\n",
    "print(\"Resultados del rendimiento de los modelos:\\n\")\n",
    "print(df_resultados)"
   ]
  }
 ],
 "metadata": {
  "kernelspec": {
   "display_name": "base",
   "language": "python",
   "name": "python3"
  },
  "language_info": {
   "codemirror_mode": {
    "name": "ipython",
    "version": 3
   },
   "file_extension": ".py",
   "mimetype": "text/x-python",
   "name": "python",
   "nbconvert_exporter": "python",
   "pygments_lexer": "ipython3",
   "version": "3.12.7"
  }
 },
 "nbformat": 4,
 "nbformat_minor": 5
}
