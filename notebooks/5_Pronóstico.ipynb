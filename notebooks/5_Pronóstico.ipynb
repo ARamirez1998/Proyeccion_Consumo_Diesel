{
 "cells": [
  {
   "cell_type": "code",
   "execution_count": 1,
   "id": "0262c98d",
   "metadata": {},
   "outputs": [],
   "source": [
    "import pandas as pd\n",
    "import numpy as np\n",
    "import matplotlib.pyplot as plt\n",
    "import seaborn as sns\n",
    "\n",
    "from sklearn.model_selection import train_test_split, cross_val_score, GridSearchCV\n",
    "from sklearn.preprocessing import StandardScaler\n",
    "from sklearn.linear_model import LinearRegression\n",
    "from sklearn.tree import DecisionTreeRegressor\n",
    "from sklearn.ensemble import RandomForestRegressor, GradientBoostingRegressor\n",
    "from sklearn.metrics import mean_squared_error, mean_absolute_error, r2_score\n"
   ]
  },
  {
   "cell_type": "code",
   "execution_count": 2,
   "id": "e09bf734",
   "metadata": {},
   "outputs": [
    {
     "data": {
      "text/html": [
       "<div>\n",
       "<style scoped>\n",
       "    .dataframe tbody tr th:only-of-type {\n",
       "        vertical-align: middle;\n",
       "    }\n",
       "\n",
       "    .dataframe tbody tr th {\n",
       "        vertical-align: top;\n",
       "    }\n",
       "\n",
       "    .dataframe thead th {\n",
       "        text-align: right;\n",
       "    }\n",
       "</style>\n",
       "<table border=\"1\" class=\"dataframe\">\n",
       "  <thead>\n",
       "    <tr style=\"text-align: right;\">\n",
       "      <th></th>\n",
       "      <th>FECHA</th>\n",
       "      <th>DISPENSADOR</th>\n",
       "      <th>HORA</th>\n",
       "      <th>VEHICULO</th>\n",
       "      <th>FLOTA</th>\n",
       "      <th>GALONES</th>\n",
       "      <th>KILOMETRAJE</th>\n",
       "      <th>ANIO</th>\n",
       "      <th>DIA_SEMANA</th>\n",
       "      <th>MES</th>\n",
       "      <th>DIA</th>\n",
       "      <th>GALONES_POR_KM</th>\n",
       "      <th>VEHICULO_ENC</th>\n",
       "      <th>FLOTA_ENC</th>\n",
       "      <th>PC1</th>\n",
       "      <th>PC2</th>\n",
       "    </tr>\n",
       "  </thead>\n",
       "  <tbody>\n",
       "    <tr>\n",
       "      <th>0</th>\n",
       "      <td>2020-01-01</td>\n",
       "      <td>1</td>\n",
       "      <td>10:35:00</td>\n",
       "      <td>S024</td>\n",
       "      <td>B12M</td>\n",
       "      <td>535680.0</td>\n",
       "      <td>411475.8</td>\n",
       "      <td>2020</td>\n",
       "      <td>2</td>\n",
       "      <td>1</td>\n",
       "      <td>1</td>\n",
       "      <td>1.301851</td>\n",
       "      <td>96</td>\n",
       "      <td>2</td>\n",
       "      <td>-0.007959</td>\n",
       "      <td>0.071349</td>\n",
       "    </tr>\n",
       "    <tr>\n",
       "      <th>1</th>\n",
       "      <td>2020-01-01</td>\n",
       "      <td>1</td>\n",
       "      <td>12:12:00</td>\n",
       "      <td>S029</td>\n",
       "      <td>B12M</td>\n",
       "      <td>541970.0</td>\n",
       "      <td>479353.4</td>\n",
       "      <td>2020</td>\n",
       "      <td>2</td>\n",
       "      <td>1</td>\n",
       "      <td>1</td>\n",
       "      <td>1.130627</td>\n",
       "      <td>101</td>\n",
       "      <td>2</td>\n",
       "      <td>-0.012753</td>\n",
       "      <td>0.287115</td>\n",
       "    </tr>\n",
       "    <tr>\n",
       "      <th>2</th>\n",
       "      <td>2020-01-01</td>\n",
       "      <td>1</td>\n",
       "      <td>12:20:00</td>\n",
       "      <td>S011</td>\n",
       "      <td>B12M</td>\n",
       "      <td>565560.0</td>\n",
       "      <td>463696.8</td>\n",
       "      <td>2020</td>\n",
       "      <td>2</td>\n",
       "      <td>1</td>\n",
       "      <td>1</td>\n",
       "      <td>1.219676</td>\n",
       "      <td>83</td>\n",
       "      <td>2</td>\n",
       "      <td>-0.011493</td>\n",
       "      <td>0.237352</td>\n",
       "    </tr>\n",
       "    <tr>\n",
       "      <th>3</th>\n",
       "      <td>2020-01-01</td>\n",
       "      <td>1</td>\n",
       "      <td>13:10:00</td>\n",
       "      <td>S074</td>\n",
       "      <td>B12M</td>\n",
       "      <td>656140.0</td>\n",
       "      <td>451279.5</td>\n",
       "      <td>2020</td>\n",
       "      <td>2</td>\n",
       "      <td>1</td>\n",
       "      <td>1</td>\n",
       "      <td>1.453955</td>\n",
       "      <td>145</td>\n",
       "      <td>2</td>\n",
       "      <td>-0.010038</td>\n",
       "      <td>0.197900</td>\n",
       "    </tr>\n",
       "    <tr>\n",
       "      <th>4</th>\n",
       "      <td>2020-01-01</td>\n",
       "      <td>1</td>\n",
       "      <td>13:30:00</td>\n",
       "      <td>S015</td>\n",
       "      <td>B12M</td>\n",
       "      <td>428790.0</td>\n",
       "      <td>418781.5</td>\n",
       "      <td>2020</td>\n",
       "      <td>2</td>\n",
       "      <td>1</td>\n",
       "      <td>1</td>\n",
       "      <td>1.023899</td>\n",
       "      <td>87</td>\n",
       "      <td>2</td>\n",
       "      <td>-0.009163</td>\n",
       "      <td>0.094549</td>\n",
       "    </tr>\n",
       "  </tbody>\n",
       "</table>\n",
       "</div>"
      ],
      "text/plain": [
       "        FECHA  DISPENSADOR      HORA VEHICULO FLOTA   GALONES  KILOMETRAJE  \\\n",
       "0  2020-01-01            1  10:35:00     S024  B12M  535680.0     411475.8   \n",
       "1  2020-01-01            1  12:12:00     S029  B12M  541970.0     479353.4   \n",
       "2  2020-01-01            1  12:20:00     S011  B12M  565560.0     463696.8   \n",
       "3  2020-01-01            1  13:10:00     S074  B12M  656140.0     451279.5   \n",
       "4  2020-01-01            1  13:30:00     S015  B12M  428790.0     418781.5   \n",
       "\n",
       "   ANIO  DIA_SEMANA  MES  DIA  GALONES_POR_KM  VEHICULO_ENC  FLOTA_ENC  \\\n",
       "0  2020           2    1    1        1.301851            96          2   \n",
       "1  2020           2    1    1        1.130627           101          2   \n",
       "2  2020           2    1    1        1.219676            83          2   \n",
       "3  2020           2    1    1        1.453955           145          2   \n",
       "4  2020           2    1    1        1.023899            87          2   \n",
       "\n",
       "        PC1       PC2  \n",
       "0 -0.007959  0.071349  \n",
       "1 -0.012753  0.287115  \n",
       "2 -0.011493  0.237352  \n",
       "3 -0.010038  0.197900  \n",
       "4 -0.009163  0.094549  "
      ]
     },
     "execution_count": 2,
     "metadata": {},
     "output_type": "execute_result"
    }
   ],
   "source": [
    "df = pd.read_csv(r\"C:\\Users\\andre\\OneDrive\\Escritorio\\USFQ\\Fundamentos en Ciencia de Datos\\Proyeccion_Consumo_Diesel\\dataset\\processed_Consumo_Diesel.csv\")\n",
    "df.head()"
   ]
  },
  {
   "cell_type": "code",
   "execution_count": 3,
   "id": "cb812c1c",
   "metadata": {},
   "outputs": [],
   "source": [
    "X = df.drop(columns=['GALONES'])\n",
    "y = df['GALONES']"
   ]
  },
  {
   "cell_type": "code",
   "execution_count": 4,
   "id": "a968d473",
   "metadata": {},
   "outputs": [],
   "source": [
    "X = pd.get_dummies(X, drop_first=True)"
   ]
  },
  {
   "cell_type": "code",
   "execution_count": 5,
   "id": "36b28b32",
   "metadata": {},
   "outputs": [],
   "source": [
    "X_train, X_test, y_train, y_test = train_test_split(X, y, test_size=0.2, random_state=42)"
   ]
  },
  {
   "cell_type": "code",
   "execution_count": 6,
   "id": "d83062d1",
   "metadata": {},
   "outputs": [],
   "source": [
    "scaler = StandardScaler()\n",
    "X_train_scaled = scaler.fit_transform(X_train)\n",
    "X_test_scaled = scaler.transform(X_test)"
   ]
  },
  {
   "cell_type": "code",
   "execution_count": 7,
   "id": "7714396d",
   "metadata": {},
   "outputs": [],
   "source": [
    "modelos = {\n",
    "    'Regresion Lineal': LinearRegression(),\n",
    "    'Decision Tree': DecisionTreeRegressor(random_state=42),\n",
    "    'Random Forest': RandomForestRegressor(random_state=42),\n",
    "    'Gradient Boosting': GradientBoostingRegressor(random_state=42)\n",
    "}"
   ]
  },
  {
   "cell_type": "code",
   "execution_count": 8,
   "id": "141a7f15",
   "metadata": {},
   "outputs": [],
   "source": [
    "resultados = {}\n",
    "for nombre, modelo in modelos.items():\n",
    "    modelo.fit(X_train_scaled, y_train)\n",
    "    y_pred = modelo.predict(X_test_scaled)\n",
    "    resultados[nombre] = {\n",
    "        'RMSE': np.sqrt(mean_squared_error(y_test, y_pred)),\n",
    "        'MAE': mean_absolute_error(y_test, y_pred),\n",
    "        'R2': r2_score(y_test, y_pred)\n",
    "    }"
   ]
  },
  {
   "cell_type": "code",
   "execution_count": 9,
   "id": "3f7328e4",
   "metadata": {},
   "outputs": [
    {
     "name": "stdout",
     "output_type": "stream",
     "text": [
      "Resultados de prueba:\n",
      "                           RMSE            MAE        R2\n",
      "Regresion Lineal   1.800644e+05    1570.237159  0.999988\n",
      "Decision Tree      1.759680e+07   93287.701677  0.884547\n",
      "Random Forest      2.594157e+06   15750.818060  0.997491\n",
      "Gradient Boosting  1.438646e+07  132966.421286  0.922830\n"
     ]
    }
   ],
   "source": [
    "resultados_df = pd.DataFrame(resultados).T\n",
    "print(\"Resultados de prueba:\")\n",
    "print(resultados_df)"
   ]
  }
 ],
 "metadata": {
  "kernelspec": {
   "display_name": "base",
   "language": "python",
   "name": "python3"
  },
  "language_info": {
   "codemirror_mode": {
    "name": "ipython",
    "version": 3
   },
   "file_extension": ".py",
   "mimetype": "text/x-python",
   "name": "python",
   "nbconvert_exporter": "python",
   "pygments_lexer": "ipython3",
   "version": "3.12.7"
  }
 },
 "nbformat": 4,
 "nbformat_minor": 5
}
