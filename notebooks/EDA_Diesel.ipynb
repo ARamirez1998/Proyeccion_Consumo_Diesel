{
 "cells": [
  {
   "cell_type": "markdown",
   "id": "c7421479",
   "metadata": {},
   "source": [
    "# Establecemos las librerías a utilizarse"
   ]
  },
  {
   "cell_type": "code",
   "execution_count": 1,
   "id": "c598be87",
   "metadata": {},
   "outputs": [],
   "source": [
    "import pandas as pd\n",
    "import matplotlib.pyplot as plt"
   ]
  },
  {
   "cell_type": "markdown",
   "id": "e8346cad",
   "metadata": {},
   "source": [
    "# Cargamos la base de Datos para su análisis"
   ]
  },
  {
   "cell_type": "markdown",
   "id": "ce826122",
   "metadata": {},
   "source": [
    "Nota: No permitía establecer la conexión en snowflake, por lo que se procedió a cargar el CSV directamente desde el cordenador."
   ]
  },
  {
   "cell_type": "code",
   "execution_count": 2,
   "id": "d363612f",
   "metadata": {},
   "outputs": [
    {
     "data": {
      "text/html": [
       "<div>\n",
       "<style scoped>\n",
       "    .dataframe tbody tr th:only-of-type {\n",
       "        vertical-align: middle;\n",
       "    }\n",
       "\n",
       "    .dataframe tbody tr th {\n",
       "        vertical-align: top;\n",
       "    }\n",
       "\n",
       "    .dataframe thead th {\n",
       "        text-align: right;\n",
       "    }\n",
       "</style>\n",
       "<table border=\"1\" class=\"dataframe\">\n",
       "  <thead>\n",
       "    <tr style=\"text-align: right;\">\n",
       "      <th></th>\n",
       "      <th>FECHA</th>\n",
       "      <th>DISPENSADOR</th>\n",
       "      <th>HORA</th>\n",
       "      <th>VEHICULO</th>\n",
       "      <th>FLOTA</th>\n",
       "      <th>GALONES</th>\n",
       "      <th>KILOMETRAJE</th>\n",
       "    </tr>\n",
       "  </thead>\n",
       "  <tbody>\n",
       "    <tr>\n",
       "      <th>0</th>\n",
       "      <td>1/1/2020</td>\n",
       "      <td>1</td>\n",
       "      <td>10:35:00</td>\n",
       "      <td>S024</td>\n",
       "      <td>B12M</td>\n",
       "      <td>53,5680</td>\n",
       "      <td>411475,8000</td>\n",
       "    </tr>\n",
       "    <tr>\n",
       "      <th>1</th>\n",
       "      <td>1/1/2020</td>\n",
       "      <td>1</td>\n",
       "      <td>12:12:00</td>\n",
       "      <td>S029</td>\n",
       "      <td>B12M</td>\n",
       "      <td>54,1970</td>\n",
       "      <td>479353,4000</td>\n",
       "    </tr>\n",
       "    <tr>\n",
       "      <th>2</th>\n",
       "      <td>1/1/2020</td>\n",
       "      <td>1</td>\n",
       "      <td>12:20:00</td>\n",
       "      <td>S011</td>\n",
       "      <td>B12M</td>\n",
       "      <td>56,5560</td>\n",
       "      <td>463696,8000</td>\n",
       "    </tr>\n",
       "    <tr>\n",
       "      <th>3</th>\n",
       "      <td>1/1/2020</td>\n",
       "      <td>1</td>\n",
       "      <td>13:10:00</td>\n",
       "      <td>S074</td>\n",
       "      <td>B12M</td>\n",
       "      <td>65,6140</td>\n",
       "      <td>451279,5000</td>\n",
       "    </tr>\n",
       "    <tr>\n",
       "      <th>4</th>\n",
       "      <td>1/1/2020</td>\n",
       "      <td>1</td>\n",
       "      <td>13:30:00</td>\n",
       "      <td>S015</td>\n",
       "      <td>B12M</td>\n",
       "      <td>42,8790</td>\n",
       "      <td>418781,5000</td>\n",
       "    </tr>\n",
       "  </tbody>\n",
       "</table>\n",
       "</div>"
      ],
      "text/plain": [
       "      FECHA  DISPENSADOR      HORA VEHICULO FLOTA  GALONES  KILOMETRAJE\n",
       "0  1/1/2020            1  10:35:00     S024  B12M  53,5680  411475,8000\n",
       "1  1/1/2020            1  12:12:00     S029  B12M  54,1970  479353,4000\n",
       "2  1/1/2020            1  12:20:00     S011  B12M  56,5560  463696,8000\n",
       "3  1/1/2020            1  13:10:00     S074  B12M  65,6140  451279,5000\n",
       "4  1/1/2020            1  13:30:00     S015  B12M  42,8790  418781,5000"
      ]
     },
     "execution_count": 2,
     "metadata": {},
     "output_type": "execute_result"
    }
   ],
   "source": [
    "raw_diesel = pd.read_csv(r\"C:\\Users\\andre\\OneDrive\\Escritorio\\USFQ\\Fundamentos en Ciencia de Datos\\Proyeccion_Consumo_Diesel\\dataset\\Consumo_Diesel.csv\", sep=\";\")\n",
    "raw_diesel.head()"
   ]
  },
  {
   "cell_type": "code",
   "execution_count": 3,
   "id": "f516deae",
   "metadata": {},
   "outputs": [
    {
     "name": "stdout",
     "output_type": "stream",
     "text": [
      "<class 'pandas.core.frame.DataFrame'>\n",
      "RangeIndex: 228209 entries, 0 to 228208\n",
      "Data columns (total 7 columns):\n",
      " #   Column       Non-Null Count   Dtype \n",
      "---  ------       --------------   ----- \n",
      " 0   FECHA        228209 non-null  object\n",
      " 1   DISPENSADOR  228209 non-null  int64 \n",
      " 2   HORA         228209 non-null  object\n",
      " 3   VEHICULO     228207 non-null  object\n",
      " 4   FLOTA        193574 non-null  object\n",
      " 5   GALONES      228209 non-null  object\n",
      " 6   KILOMETRAJE  227988 non-null  object\n",
      "dtypes: int64(1), object(6)\n",
      "memory usage: 12.2+ MB\n"
     ]
    }
   ],
   "source": [
    "raw_diesel.info()"
   ]
  },
  {
   "cell_type": "markdown",
   "id": "4d9e5150",
   "metadata": {},
   "source": [
    "Se puede observar que existe un total de 228209 datos ingresados, y que en las columnas pertenecientes a \"VEHICULO\", \"FLOTA\", \"GALONES\" y \"KILOMERAJE\" presentan valores nulos, también se puede observar que en la \"FECHA\", \"HORA\", \"GALONES\" y \"KILOMETRAJE\" no tienen los formatos adecuados, ya que estas se almacenan como texto y no como tiempo/fecha y valores flotantes."
   ]
  },
  {
   "cell_type": "markdown",
   "id": "d6072f1e",
   "metadata": {},
   "source": [
    "# Valores Duplicados"
   ]
  },
  {
   "cell_type": "code",
   "execution_count": 4,
   "id": "7575b1c0",
   "metadata": {},
   "outputs": [
    {
     "name": "stdout",
     "output_type": "stream",
     "text": [
      "Se encontraron valores duplicados:  1\n"
     ]
    }
   ],
   "source": [
    "raw_duplicados = raw_diesel.duplicated().sum()\n",
    "print('Se encontraron valores duplicados: ', raw_duplicados)"
   ]
  },
  {
   "cell_type": "code",
   "execution_count": 5,
   "id": "d9900f83",
   "metadata": {},
   "outputs": [
    {
     "name": "stdout",
     "output_type": "stream",
     "text": [
      "El dato duplicado es el siguiente: \n"
     ]
    },
    {
     "data": {
      "text/html": [
       "<div>\n",
       "<style scoped>\n",
       "    .dataframe tbody tr th:only-of-type {\n",
       "        vertical-align: middle;\n",
       "    }\n",
       "\n",
       "    .dataframe tbody tr th {\n",
       "        vertical-align: top;\n",
       "    }\n",
       "\n",
       "    .dataframe thead th {\n",
       "        text-align: right;\n",
       "    }\n",
       "</style>\n",
       "<table border=\"1\" class=\"dataframe\">\n",
       "  <thead>\n",
       "    <tr style=\"text-align: right;\">\n",
       "      <th></th>\n",
       "      <th>FECHA</th>\n",
       "      <th>DISPENSADOR</th>\n",
       "      <th>HORA</th>\n",
       "      <th>VEHICULO</th>\n",
       "      <th>FLOTA</th>\n",
       "      <th>GALONES</th>\n",
       "      <th>KILOMETRAJE</th>\n",
       "    </tr>\n",
       "  </thead>\n",
       "  <tbody>\n",
       "    <tr>\n",
       "      <th>23196</th>\n",
       "      <td>3/8/2020</td>\n",
       "      <td>4</td>\n",
       "      <td>10:15:00</td>\n",
       "      <td>T008</td>\n",
       "      <td>TROLEBUS</td>\n",
       "      <td>2,8310</td>\n",
       "      <td>63703,0000</td>\n",
       "    </tr>\n",
       "  </tbody>\n",
       "</table>\n",
       "</div>"
      ],
      "text/plain": [
       "          FECHA  DISPENSADOR      HORA VEHICULO     FLOTA GALONES KILOMETRAJE\n",
       "23196  3/8/2020            4  10:15:00     T008  TROLEBUS  2,8310  63703,0000"
      ]
     },
     "execution_count": 5,
     "metadata": {},
     "output_type": "execute_result"
    }
   ],
   "source": [
    "print('El dato duplicado es el siguiente: ')\n",
    "raw_diesel[raw_diesel.duplicated()]"
   ]
  },
  {
   "cell_type": "code",
   "execution_count": 6,
   "id": "b309970f",
   "metadata": {},
   "outputs": [
    {
     "data": {
      "text/html": [
       "<div>\n",
       "<style scoped>\n",
       "    .dataframe tbody tr th:only-of-type {\n",
       "        vertical-align: middle;\n",
       "    }\n",
       "\n",
       "    .dataframe tbody tr th {\n",
       "        vertical-align: top;\n",
       "    }\n",
       "\n",
       "    .dataframe thead th {\n",
       "        text-align: right;\n",
       "    }\n",
       "</style>\n",
       "<table border=\"1\" class=\"dataframe\">\n",
       "  <thead>\n",
       "    <tr style=\"text-align: right;\">\n",
       "      <th></th>\n",
       "      <th>FECHA</th>\n",
       "      <th>DISPENSADOR</th>\n",
       "      <th>HORA</th>\n",
       "      <th>VEHICULO</th>\n",
       "      <th>FLOTA</th>\n",
       "      <th>GALONES</th>\n",
       "      <th>KILOMETRAJE</th>\n",
       "    </tr>\n",
       "  </thead>\n",
       "  <tbody>\n",
       "    <tr>\n",
       "      <th>23195</th>\n",
       "      <td>3/8/2020</td>\n",
       "      <td>4</td>\n",
       "      <td>10:15:00</td>\n",
       "      <td>T008</td>\n",
       "      <td>TROLEBUS</td>\n",
       "      <td>2,8310</td>\n",
       "      <td>63703,0000</td>\n",
       "    </tr>\n",
       "    <tr>\n",
       "      <th>23196</th>\n",
       "      <td>3/8/2020</td>\n",
       "      <td>4</td>\n",
       "      <td>10:15:00</td>\n",
       "      <td>T008</td>\n",
       "      <td>TROLEBUS</td>\n",
       "      <td>2,8310</td>\n",
       "      <td>63703,0000</td>\n",
       "    </tr>\n",
       "  </tbody>\n",
       "</table>\n",
       "</div>"
      ],
      "text/plain": [
       "          FECHA  DISPENSADOR      HORA VEHICULO     FLOTA GALONES KILOMETRAJE\n",
       "23195  3/8/2020            4  10:15:00     T008  TROLEBUS  2,8310  63703,0000\n",
       "23196  3/8/2020            4  10:15:00     T008  TROLEBUS  2,8310  63703,0000"
      ]
     },
     "execution_count": 6,
     "metadata": {},
     "output_type": "execute_result"
    }
   ],
   "source": [
    "raw_diesel.query(\"FECHA == '3/8/2020' & HORA == '10:15:00' & VEHICULO == 'T008' & GALONES == '2,8310'\")"
   ]
  },
  {
   "cell_type": "markdown",
   "id": "f52e92fc",
   "metadata": {},
   "source": [
    "# Valores Faltantes"
   ]
  },
  {
   "cell_type": "code",
   "execution_count": 7,
   "id": "f2847277",
   "metadata": {},
   "outputs": [
    {
     "data": {
      "text/plain": [
       "FECHA              0\n",
       "DISPENSADOR        0\n",
       "HORA               0\n",
       "VEHICULO           2\n",
       "FLOTA          34635\n",
       "GALONES            0\n",
       "KILOMETRAJE      221\n",
       "dtype: int64"
      ]
     },
     "execution_count": 7,
     "metadata": {},
     "output_type": "execute_result"
    }
   ],
   "source": [
    "raw_diesel.isna().sum()"
   ]
  },
  {
   "cell_type": "code",
   "execution_count": 8,
   "id": "cc9f2828",
   "metadata": {},
   "outputs": [
    {
     "data": {
      "text/html": [
       "<div>\n",
       "<style scoped>\n",
       "    .dataframe tbody tr th:only-of-type {\n",
       "        vertical-align: middle;\n",
       "    }\n",
       "\n",
       "    .dataframe tbody tr th {\n",
       "        vertical-align: top;\n",
       "    }\n",
       "\n",
       "    .dataframe thead th {\n",
       "        text-align: right;\n",
       "    }\n",
       "</style>\n",
       "<table border=\"1\" class=\"dataframe\">\n",
       "  <thead>\n",
       "    <tr style=\"text-align: right;\">\n",
       "      <th></th>\n",
       "      <th>FECHA</th>\n",
       "      <th>DISPENSADOR</th>\n",
       "      <th>HORA</th>\n",
       "      <th>VEHICULO</th>\n",
       "      <th>FLOTA</th>\n",
       "      <th>GALONES</th>\n",
       "      <th>KILOMETRAJE</th>\n",
       "    </tr>\n",
       "  </thead>\n",
       "  <tbody>\n",
       "    <tr>\n",
       "      <th>147742</th>\n",
       "      <td>1/8/2022</td>\n",
       "      <td>6</td>\n",
       "      <td>0:00:00</td>\n",
       "      <td>NaN</td>\n",
       "      <td>NaN</td>\n",
       "      <td>0,0000</td>\n",
       "      <td>0,0000</td>\n",
       "    </tr>\n",
       "    <tr>\n",
       "      <th>172389</th>\n",
       "      <td>11/12/2022</td>\n",
       "      <td>4</td>\n",
       "      <td>18:29:00</td>\n",
       "      <td>NaN</td>\n",
       "      <td>NaN</td>\n",
       "      <td>0,0010</td>\n",
       "      <td>0,0000</td>\n",
       "    </tr>\n",
       "  </tbody>\n",
       "</table>\n",
       "</div>"
      ],
      "text/plain": [
       "             FECHA  DISPENSADOR      HORA VEHICULO FLOTA GALONES KILOMETRAJE\n",
       "147742    1/8/2022            6   0:00:00      NaN   NaN  0,0000      0,0000\n",
       "172389  11/12/2022            4  18:29:00      NaN   NaN  0,0010      0,0000"
      ]
     },
     "execution_count": 8,
     "metadata": {},
     "output_type": "execute_result"
    }
   ],
   "source": [
    "ausentes_vh = raw_diesel[raw_diesel.isna()['VEHICULO']]\n",
    "ausentes_vh"
   ]
  },
  {
   "cell_type": "markdown",
   "id": "d114c09e",
   "metadata": {},
   "source": [
    "Como se puede observa en la columna \"VEHICULO\" se encuentran datos vacíos, y tomando en cuenta la fila de \"GALONES\" y \"KILOMETRAJE\" pueden ser errores en los registros, los cuales al ser eliminados no afectan al estudio ya que los valores que registran tanto en galonaje como kilometraje son mínimos."
   ]
  },
  {
   "cell_type": "code",
   "execution_count": 9,
   "id": "9822e34d",
   "metadata": {},
   "outputs": [
    {
     "data": {
      "text/plain": [
       "array(['M036', 'M026', 'D015', 'D003', 'D025', 'T111', 'M020', 'D009',\n",
       "       'D030', 'D042', 'D002', 'T095', 'T033', 'M019', 'S056', 'B036',\n",
       "       'B038', 'T051', 'A114', 'B045', 'T028', 'T042', 'T005', 'T043',\n",
       "       'T003', 'D029', 'D006', 'T038', 'T029', 'D038', 'M040', 'T032',\n",
       "       'D020', 't029', 't111', 'T81', 'D004', 'D016', 'T045', 'D024',\n",
       "       'T048', 'D021', 'T019', 'T053', 'D034', 'T075', 'D033', 'T031',\n",
       "       'D010', 'A117', 'T088', 'T015', 'T037', 'COMPRESOR', 'T034',\n",
       "       'B048', 'D039', 'D040', 'T030', 'T102', 'D011', 'PMA8561',\n",
       "       'PMA7709', 'PMA7706', 'PMF780', 'PMA7390', 'PMA8560', 'PMA7727',\n",
       "       'PMA7715', 'PMA8565', 'PMA3026', 'PMA7585', 'PMA3244', 'PMA3325',\n",
       "       'PMA8566', 'PMA7158', 'PMA7728', 'PMA7393', 'PMA8567', 'PMA8557',\n",
       "       'PMA8568', 'PMA7707', 'PMA7713', 'PMA8559', 'PMA8562', 'PMA7729',\n",
       "       'PMA7718', 'PMA7712', 'PMA7708', 'PMA7719', 'PMA8570', 'PMA8564',\n",
       "       'PMA7561', 'PMA3083', 'PMA7189', 'PMA7714', 'PMA7721', 'PMA3065',\n",
       "       'PMA4518', 'PMA4545', 'PMA7582', 'PMA3323', 'PMA7720', 'PMA3053',\n",
       "       'PMA7671 ', 'PMA7672', 'PMA3322', 'PMA4544', 'PMA7716', 'PMA3249',\n",
       "       'PMA3066', 'PMF806', 'PMA4519', 'PMA7723', 'PMA7725', 'PMA7683',\n",
       "       'PMA1050', 'PMA8556', 'PMA7722', 'PMA7564', 'PMA7726', 'PMA7565',\n",
       "       'PMA3050', 'PMA7710', 'PMA7097', 'PMA7111', 'PMA7570', 'PMA8558',\n",
       "       'PMA7400', 'PMA7101', 'PMA7730', 'PMA7110', 'PMA7690', 'PMA8563',\n",
       "       'PMA3246', 'PMA7680', 'PMA7679', 'PMA7753', 'PMA8569', 'PMA7685',\n",
       "       'PMA3239', 'PMA3039', 'PMA7711', 'PMA7724', 'PMA4516', 'PMA7163',\n",
       "       'PMA7717', 'PMA7563', 'PMD501', 'PMA7154', 'PMA7436', 'PMA7433',\n",
       "       'PMA7162', 'PMA3237', 'PMA7567', 'PMA7388', 'PMA3023', 'PMA4517',\n",
       "       'PMA7394', 'P-30162', 'PMA7164', 'PMA7684', 'PMA3090', 'PMA7703',\n",
       "       'PMA3267', 'PMA706', 'PMA7106', 'PMA1052', 'PXU3026', 'PMA7598',\n",
       "       'PMF0722', 'PMA7159', 'PMA7681', 'P-4517002064', 'PMA7435',\n",
       "       'PMA8013', 'PMF777', 'PMA7559', 'PMA7156', 'PMA7586', 'PMA7692',\n",
       "       'PMA3089', 'PMA7569', 'PMA7687', 'P-G00789561', 'PMA7571',\n",
       "       'PMA7671', 'PMA7098', 'PMA7557', 'PMA7160', 'PMA7700', 'PMA7230',\n",
       "       'P-600789561', 'PMA7733', 'PMA7115', 'PMA7157', 'PMA7682',\n",
       "       'PMA7155', 'PMA3054', 'pma7717', 'PMA7114', 'PMA7562', 'PMA7113',\n",
       "       'PMA7392', 'PMA3234', 'PMA7688', 't095', 'T092', 'P-4517002065',\n",
       "       'PMA0078', 'PMA7399', 'PMA7032', 'T026', 'PME782', 'PMA3233',\n",
       "       'PMA7568', 'P-GTA8046', 'P-GTA8047', 'PMD8563', 'PMA7676',\n",
       "       'P-T00789563', 'PMF0782', 'D036', 'PMA7138', 'PMA7258', 'PMA7689',\n",
       "       'PMA872', 'PMA3707', 'P-GSS6295', 'PMA3242', 'D019', 'PMA5887',\n",
       "       'PMA5267', 'P-30179', 'P-30170', 'P-30163', 'CR002', 'P-30198',\n",
       "       'P-30164', 'PMA7698', 'PMA8047', 'p-gss6295', 'T072', 'PMA854',\n",
       "       'PMA769', 'PMF870', 'PMA7992', 'pma7692', 'P-3444', 'P-3442',\n",
       "       'P-3440', 'P-3443', 'PMA7161', 'P-3447', 'P-3441', 'P-3446',\n",
       "       'P-3445', 'PMA0501', 'pma3054', 'PMA7696', 'PMA7171', 'PMD0501',\n",
       "       'pma3323', 'PMA8463', 'P-1631', 'P-1259', 'P-ABC0999', 'PMA7588',\n",
       "       'PMA7566', 'PMF722', 'PMA7109', 'T035', nan, 'PMA7589', 'PMA7107',\n",
       "       'PME0782', 'pma4545', 'PMA7100', 'PMA7104', 'PMA3093', 'PMA4546',\n",
       "       'T112', 'PMA7581', 'PMA7102', 'PMA7699', 'T023', 'T080', 'P-34-43',\n",
       "       'P-34-42', 'PMA3055', 'P-34-41', 'P-34-40', 'PMA7878', 'P-30152',\n",
       "       'PMA7105', 'P-30171', 'PMA7389', 'PMA7112', 'PMA7391', 'PMA7917',\n",
       "       'PMA7924', 'PMA7928', 'PMA7925', 'PMA7008', 'PMA7923', 'PMA7880',\n",
       "       'PMA8571', 'PMA7093', 'PMA7912', 'PMA7921', 'PMA7882', 'P-GTA9807',\n",
       "       'PMA7926', 'PMA7929', 'PMA7913', 'PMA7911', 'PMA7879', 'PMA7931',\n",
       "       'P-1634', 'PMA7904', 'PMA7930', 'PMA7951', 'PMA7108', 'PMA3020',\n",
       "       'PMA7910', 'PMF0872', 'PMA7927', 'PMA7933', 'PMD8560', 'PMA7876',\n",
       "       'PMA7693', 'PMA7123', 'PMA5868', 'PMA9569', 'PMA7183', 'PMA7877',\n",
       "       'PMA7875', 'PMA7881', 'PMA4847', 'PMA7804', 'PMA7343', 'PMA6585',\n",
       "       'PMF0777', 'CALIBRACION', 'PMA7527', 'PMA7252', 'PMA8578',\n",
       "       'PME0182', 'PMA7754', 'PMA0224', 'PMA8596', 'PMA7802', 'PMA2233',\n",
       "       'PMA7227', 'PMA0813', 'PMA7833', 'PMA3092', 'PMA5053', 'PMA9807',\n",
       "       'PMA2432', 'PMA6881', 'PMA813', 'PMA7027', 'PMA7184', 'PMA7408',\n",
       "       'P-GSS6259', 'PMA1390', 'PMA3446', 'PMA3223', 'PMA7665', 'PMA7320',\n",
       "       'PMA5007', 'P-3448', 'P-3449', 'PMA1388', 'PMA7279', 'PMA2527',\n",
       "       'P-5007', 'P-GTA846', 'P-30191', 'PMA8285', 'PMA3787', 'PMA7600',\n",
       "       'PMA8576', 'PMA7099', 'PMF0778', 'PMA8028', 'PMA7737', 'PMA7395',\n",
       "       'PMA4524', 'PMF0806', 'PME0818', 'PMA7872', 'PMA8024', 'PMA7200',\n",
       "       'PMA7380', 'PMA7953', 'P-3046', 'P-30120', 'PMA7339', 'P-5008',\n",
       "       'PMA8023', 'PMA7778', 'T069', 'P-G556995'], dtype=object)"
      ]
     },
     "execution_count": 9,
     "metadata": {},
     "output_type": "execute_result"
    }
   ],
   "source": [
    "ausentes_flt = raw_diesel[raw_diesel.isna()['FLOTA']]\n",
    "ausentes_flt['VEHICULO'].unique()"
   ]
  },
  {
   "cell_type": "markdown",
   "id": "18d22f16",
   "metadata": {},
   "source": [
    "Se puede obervar que existen varios valores que no describen un tipo de flota, en su mayoría son errores al momento de registrar las placas de los vehículos, como la \"t029\" que en el registro real si existe una \"T029\", también se puede observar que existen el registro de unidades que empiezan con una nomenclatura \"PMA\" o \"P\", esto se presenta debido a que no son unidades pertenecientes a la flota Trolebus. También se puede observar que existen unidades que han sido dadas de baja en tiempo recientes, por lo que no se encuentran registrados en un flota en específico. "
   ]
  },
  {
   "cell_type": "code",
   "execution_count": 10,
   "id": "db3c72ca",
   "metadata": {},
   "outputs": [
    {
     "data": {
      "text/plain": [
       "array(['LAVTALLER', 'T073', 'D006', 'M038', 'COMPRESOR', 'A114', 'B032',\n",
       "       'M014', 'T106', 'T017', 'T004', 'PMA3053', 'PMA3026', 'PMA7672',\n",
       "       'PMA3322', 'PMA3249', 'PMA3066', 'PMF780', 'PMA3325', 'PMA8561',\n",
       "       'PMA706', 'P-600789561', 'PMA7388', 'PMA3050', 'PMA7394',\n",
       "       'PMA3039', 'PMA7717', 'PMA3267', 'D035', 'PMA7721', 'D037',\n",
       "       'P-G00789561', 'PMA3237', 'PMA7230', 'PMA8558', 'lavtaller',\n",
       "       'PMA7684', 'PMF0782', 'M011', 'B052', 'PMA7164', 'PMA3093',\n",
       "       'PMF0872', 'PMA7561', 'PME0782', 'PMA8567', 'PMA7113', 'PMA7689',\n",
       "       'PMA7878', 'PMA3239', 'PMA7108', 'PMA7699', 'PMD0501', 'P-30162',\n",
       "       'PMA7032', 'PMA7713', 'PMA8564', 'PMA7109', 'S008', 'PMA7393',\n",
       "       'V017', 'V060', 'T027'], dtype=object)"
      ]
     },
     "execution_count": 10,
     "metadata": {},
     "output_type": "execute_result"
    }
   ],
   "source": [
    "ausentes_km = raw_diesel[raw_diesel.isna()['KILOMETRAJE']]\n",
    "ausentes_km['VEHICULO'].unique()"
   ]
  },
  {
   "cell_type": "markdown",
   "id": "4e520312",
   "metadata": {},
   "source": [
    "Los datos de \"COMPRESOR\" y \"LAVTALLER\" son implementos de trabajo en los que se utiliza diesel y no tienen recorrido en kilómetros, las unidades que empiezan con \"P\" o \"PMA\" son unidades de trabajo no pertenecientes a la empresa por lo que no se registra el kilometraje, las unidades \"T\", \"D\", \"M\", \"B\" y \"A\", se completarán los datos con la media tel recorrido de la unidades y el último registro."
   ]
  }
 ],
 "metadata": {
  "kernelspec": {
   "display_name": "base",
   "language": "python",
   "name": "python3"
  },
  "language_info": {
   "codemirror_mode": {
    "name": "ipython",
    "version": 3
   },
   "file_extension": ".py",
   "mimetype": "text/x-python",
   "name": "python",
   "nbconvert_exporter": "python",
   "pygments_lexer": "ipython3",
   "version": "3.12.7"
  }
 },
 "nbformat": 4,
 "nbformat_minor": 5
}
