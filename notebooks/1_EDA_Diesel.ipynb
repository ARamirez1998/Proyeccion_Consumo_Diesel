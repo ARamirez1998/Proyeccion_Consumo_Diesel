{
 "cells": [
  {
   "cell_type": "markdown",
   "id": "c7421479",
   "metadata": {},
   "source": [
    "# Establecemos las librerías a utilizarse"
   ]
  },
  {
   "cell_type": "code",
   "execution_count": 7,
   "id": "c598be87",
   "metadata": {},
   "outputs": [],
   "source": [
    "import pandas as pd\n",
    "import matplotlib.pyplot as plt"
   ]
  },
  {
   "cell_type": "markdown",
   "id": "e8346cad",
   "metadata": {},
   "source": [
    "# Cargamos la base de Datos para su análisis"
   ]
  },
  {
   "cell_type": "markdown",
   "id": "ce826122",
   "metadata": {},
   "source": [
    "Nota: No permitía establecer la conexión en snowflake, por lo que se procedió a cargar el CSV directamente desde el cordenador."
   ]
  },
  {
   "cell_type": "code",
   "execution_count": 8,
   "id": "d363612f",
   "metadata": {},
   "outputs": [
    {
     "data": {
      "text/html": [
       "<div>\n",
       "<style scoped>\n",
       "    .dataframe tbody tr th:only-of-type {\n",
       "        vertical-align: middle;\n",
       "    }\n",
       "\n",
       "    .dataframe tbody tr th {\n",
       "        vertical-align: top;\n",
       "    }\n",
       "\n",
       "    .dataframe thead th {\n",
       "        text-align: right;\n",
       "    }\n",
       "</style>\n",
       "<table border=\"1\" class=\"dataframe\">\n",
       "  <thead>\n",
       "    <tr style=\"text-align: right;\">\n",
       "      <th></th>\n",
       "      <th>FECHA</th>\n",
       "      <th>DISPENSADOR</th>\n",
       "      <th>HORA</th>\n",
       "      <th>VEHICULO</th>\n",
       "      <th>FLOTA</th>\n",
       "      <th>GALONES</th>\n",
       "      <th>KILOMETRAJE</th>\n",
       "    </tr>\n",
       "  </thead>\n",
       "  <tbody>\n",
       "    <tr>\n",
       "      <th>0</th>\n",
       "      <td>2020-01-01</td>\n",
       "      <td>1</td>\n",
       "      <td>10:35:00</td>\n",
       "      <td>S024</td>\n",
       "      <td>B12M</td>\n",
       "      <td>53,568</td>\n",
       "      <td>411475,8</td>\n",
       "    </tr>\n",
       "    <tr>\n",
       "      <th>1</th>\n",
       "      <td>2020-01-01</td>\n",
       "      <td>1</td>\n",
       "      <td>12:12:00</td>\n",
       "      <td>S029</td>\n",
       "      <td>B12M</td>\n",
       "      <td>54,197</td>\n",
       "      <td>479353,4</td>\n",
       "    </tr>\n",
       "    <tr>\n",
       "      <th>2</th>\n",
       "      <td>2020-01-01</td>\n",
       "      <td>1</td>\n",
       "      <td>12:20:00</td>\n",
       "      <td>S011</td>\n",
       "      <td>B12M</td>\n",
       "      <td>56,556</td>\n",
       "      <td>463696,8</td>\n",
       "    </tr>\n",
       "    <tr>\n",
       "      <th>3</th>\n",
       "      <td>2020-01-01</td>\n",
       "      <td>1</td>\n",
       "      <td>13:10:00</td>\n",
       "      <td>S074</td>\n",
       "      <td>B12M</td>\n",
       "      <td>65,614</td>\n",
       "      <td>451279,5</td>\n",
       "    </tr>\n",
       "    <tr>\n",
       "      <th>4</th>\n",
       "      <td>2020-01-01</td>\n",
       "      <td>1</td>\n",
       "      <td>13:30:00</td>\n",
       "      <td>S015</td>\n",
       "      <td>B12M</td>\n",
       "      <td>42,879</td>\n",
       "      <td>418781,5</td>\n",
       "    </tr>\n",
       "  </tbody>\n",
       "</table>\n",
       "</div>"
      ],
      "text/plain": [
       "        FECHA  DISPENSADOR      HORA VEHICULO FLOTA GALONES KILOMETRAJE\n",
       "0  2020-01-01            1  10:35:00     S024  B12M  53,568    411475,8\n",
       "1  2020-01-01            1  12:12:00     S029  B12M  54,197    479353,4\n",
       "2  2020-01-01            1  12:20:00     S011  B12M  56,556    463696,8\n",
       "3  2020-01-01            1  13:10:00     S074  B12M  65,614    451279,5\n",
       "4  2020-01-01            1  13:30:00     S015  B12M  42,879    418781,5"
      ]
     },
     "execution_count": 8,
     "metadata": {},
     "output_type": "execute_result"
    }
   ],
   "source": [
    "raw_diesel = pd.read_csv(r\"C:\\Users\\andre\\OneDrive\\Escritorio\\USFQ\\Fundamentos en Ciencia de Datos\\Proyeccion_Consumo_Diesel\\dataset\\raw0_Consumo_Diesel.csv\", sep=\";\")\n",
    "raw_diesel.head()"
   ]
  },
  {
   "cell_type": "code",
   "execution_count": 9,
   "id": "f516deae",
   "metadata": {},
   "outputs": [
    {
     "name": "stdout",
     "output_type": "stream",
     "text": [
      "<class 'pandas.core.frame.DataFrame'>\n",
      "RangeIndex: 228209 entries, 0 to 228208\n",
      "Data columns (total 7 columns):\n",
      " #   Column       Non-Null Count   Dtype \n",
      "---  ------       --------------   ----- \n",
      " 0   FECHA        228209 non-null  object\n",
      " 1   DISPENSADOR  228209 non-null  int64 \n",
      " 2   HORA         228202 non-null  object\n",
      " 3   VEHICULO     228207 non-null  object\n",
      " 4   FLOTA        193574 non-null  object\n",
      " 5   GALONES      228209 non-null  object\n",
      " 6   KILOMETRAJE  227988 non-null  object\n",
      "dtypes: int64(1), object(6)\n",
      "memory usage: 12.2+ MB\n"
     ]
    }
   ],
   "source": [
    "raw_diesel.info()"
   ]
  },
  {
   "cell_type": "markdown",
   "id": "4d9e5150",
   "metadata": {},
   "source": [
    "Se puede observar que existe un total de 228209 datos ingresados, y que en las columnas pertenecientes a \"VEHICULO\", \"FLOTA\", \"GALONES\" y \"KILOMERAJE\" presentan valores nulos, también se puede observar que en la \"FECHA\", \"HORA\", \"GALONES\" y \"KILOMETRAJE\" no tienen los formatos adecuados, ya que estas se almacenan como texto y no como tiempo/fecha y valores flotantes."
   ]
  },
  {
   "cell_type": "markdown",
   "id": "d6072f1e",
   "metadata": {},
   "source": [
    "# Valores Duplicados"
   ]
  },
  {
   "cell_type": "code",
   "execution_count": 10,
   "id": "7575b1c0",
   "metadata": {},
   "outputs": [
    {
     "name": "stdout",
     "output_type": "stream",
     "text": [
      "Se encontraron valores duplicados:  1\n"
     ]
    }
   ],
   "source": [
    "raw_duplicados = raw_diesel.duplicated().sum()\n",
    "print('Se encontraron valores duplicados: ', raw_duplicados)"
   ]
  },
  {
   "cell_type": "code",
   "execution_count": 11,
   "id": "d9900f83",
   "metadata": {},
   "outputs": [
    {
     "name": "stdout",
     "output_type": "stream",
     "text": [
      "El dato duplicado es el siguiente: \n"
     ]
    },
    {
     "data": {
      "text/html": [
       "<div>\n",
       "<style scoped>\n",
       "    .dataframe tbody tr th:only-of-type {\n",
       "        vertical-align: middle;\n",
       "    }\n",
       "\n",
       "    .dataframe tbody tr th {\n",
       "        vertical-align: top;\n",
       "    }\n",
       "\n",
       "    .dataframe thead th {\n",
       "        text-align: right;\n",
       "    }\n",
       "</style>\n",
       "<table border=\"1\" class=\"dataframe\">\n",
       "  <thead>\n",
       "    <tr style=\"text-align: right;\">\n",
       "      <th></th>\n",
       "      <th>FECHA</th>\n",
       "      <th>DISPENSADOR</th>\n",
       "      <th>HORA</th>\n",
       "      <th>VEHICULO</th>\n",
       "      <th>FLOTA</th>\n",
       "      <th>GALONES</th>\n",
       "      <th>KILOMETRAJE</th>\n",
       "    </tr>\n",
       "  </thead>\n",
       "  <tbody>\n",
       "    <tr>\n",
       "      <th>23196</th>\n",
       "      <td>2020-08-03</td>\n",
       "      <td>4</td>\n",
       "      <td>10:15:00</td>\n",
       "      <td>T008</td>\n",
       "      <td>TROLEBUS</td>\n",
       "      <td>2,831</td>\n",
       "      <td>63703</td>\n",
       "    </tr>\n",
       "  </tbody>\n",
       "</table>\n",
       "</div>"
      ],
      "text/plain": [
       "            FECHA  DISPENSADOR      HORA VEHICULO     FLOTA GALONES  \\\n",
       "23196  2020-08-03            4  10:15:00     T008  TROLEBUS   2,831   \n",
       "\n",
       "      KILOMETRAJE  \n",
       "23196       63703  "
      ]
     },
     "execution_count": 11,
     "metadata": {},
     "output_type": "execute_result"
    }
   ],
   "source": [
    "print('El dato duplicado es el siguiente: ')\n",
    "raw_diesel[raw_diesel.duplicated()]"
   ]
  },
  {
   "cell_type": "code",
   "execution_count": 12,
   "id": "b309970f",
   "metadata": {},
   "outputs": [
    {
     "data": {
      "text/html": [
       "<div>\n",
       "<style scoped>\n",
       "    .dataframe tbody tr th:only-of-type {\n",
       "        vertical-align: middle;\n",
       "    }\n",
       "\n",
       "    .dataframe tbody tr th {\n",
       "        vertical-align: top;\n",
       "    }\n",
       "\n",
       "    .dataframe thead th {\n",
       "        text-align: right;\n",
       "    }\n",
       "</style>\n",
       "<table border=\"1\" class=\"dataframe\">\n",
       "  <thead>\n",
       "    <tr style=\"text-align: right;\">\n",
       "      <th></th>\n",
       "      <th>FECHA</th>\n",
       "      <th>DISPENSADOR</th>\n",
       "      <th>HORA</th>\n",
       "      <th>VEHICULO</th>\n",
       "      <th>FLOTA</th>\n",
       "      <th>GALONES</th>\n",
       "      <th>KILOMETRAJE</th>\n",
       "    </tr>\n",
       "  </thead>\n",
       "  <tbody>\n",
       "    <tr>\n",
       "      <th>23195</th>\n",
       "      <td>2020-08-03</td>\n",
       "      <td>4</td>\n",
       "      <td>10:15:00</td>\n",
       "      <td>T008</td>\n",
       "      <td>TROLEBUS</td>\n",
       "      <td>2,831</td>\n",
       "      <td>63703</td>\n",
       "    </tr>\n",
       "    <tr>\n",
       "      <th>23196</th>\n",
       "      <td>2020-08-03</td>\n",
       "      <td>4</td>\n",
       "      <td>10:15:00</td>\n",
       "      <td>T008</td>\n",
       "      <td>TROLEBUS</td>\n",
       "      <td>2,831</td>\n",
       "      <td>63703</td>\n",
       "    </tr>\n",
       "  </tbody>\n",
       "</table>\n",
       "</div>"
      ],
      "text/plain": [
       "            FECHA  DISPENSADOR      HORA VEHICULO     FLOTA GALONES  \\\n",
       "23195  2020-08-03            4  10:15:00     T008  TROLEBUS   2,831   \n",
       "23196  2020-08-03            4  10:15:00     T008  TROLEBUS   2,831   \n",
       "\n",
       "      KILOMETRAJE  \n",
       "23195       63703  \n",
       "23196       63703  "
      ]
     },
     "execution_count": 12,
     "metadata": {},
     "output_type": "execute_result"
    }
   ],
   "source": [
    "raw_diesel.query(\"FECHA == '2020-08-03' & HORA == '10:15:00' & VEHICULO == 'T008' & GALONES == '2,831'\")"
   ]
  },
  {
   "cell_type": "markdown",
   "id": "f52e92fc",
   "metadata": {},
   "source": [
    "# Valores Faltantes"
   ]
  },
  {
   "cell_type": "code",
   "execution_count": 13,
   "id": "f2847277",
   "metadata": {},
   "outputs": [
    {
     "data": {
      "text/plain": [
       "FECHA              0\n",
       "DISPENSADOR        0\n",
       "HORA               7\n",
       "VEHICULO           2\n",
       "FLOTA          34635\n",
       "GALONES            0\n",
       "KILOMETRAJE      221\n",
       "dtype: int64"
      ]
     },
     "execution_count": 13,
     "metadata": {},
     "output_type": "execute_result"
    }
   ],
   "source": [
    "raw_diesel.isna().sum()"
   ]
  },
  {
   "cell_type": "code",
   "execution_count": 14,
   "id": "cc9f2828",
   "metadata": {},
   "outputs": [
    {
     "data": {
      "text/html": [
       "<div>\n",
       "<style scoped>\n",
       "    .dataframe tbody tr th:only-of-type {\n",
       "        vertical-align: middle;\n",
       "    }\n",
       "\n",
       "    .dataframe tbody tr th {\n",
       "        vertical-align: top;\n",
       "    }\n",
       "\n",
       "    .dataframe thead th {\n",
       "        text-align: right;\n",
       "    }\n",
       "</style>\n",
       "<table border=\"1\" class=\"dataframe\">\n",
       "  <thead>\n",
       "    <tr style=\"text-align: right;\">\n",
       "      <th></th>\n",
       "      <th>FECHA</th>\n",
       "      <th>DISPENSADOR</th>\n",
       "      <th>HORA</th>\n",
       "      <th>VEHICULO</th>\n",
       "      <th>FLOTA</th>\n",
       "      <th>GALONES</th>\n",
       "      <th>KILOMETRAJE</th>\n",
       "    </tr>\n",
       "  </thead>\n",
       "  <tbody>\n",
       "    <tr>\n",
       "      <th>147742</th>\n",
       "      <td>2022-08-01</td>\n",
       "      <td>6</td>\n",
       "      <td>00:00:00</td>\n",
       "      <td>NaN</td>\n",
       "      <td>NaN</td>\n",
       "      <td>0</td>\n",
       "      <td>0</td>\n",
       "    </tr>\n",
       "    <tr>\n",
       "      <th>172389</th>\n",
       "      <td>2022-12-11</td>\n",
       "      <td>4</td>\n",
       "      <td>18:29:00</td>\n",
       "      <td>NaN</td>\n",
       "      <td>NaN</td>\n",
       "      <td>0,001</td>\n",
       "      <td>0</td>\n",
       "    </tr>\n",
       "  </tbody>\n",
       "</table>\n",
       "</div>"
      ],
      "text/plain": [
       "             FECHA  DISPENSADOR      HORA VEHICULO FLOTA GALONES KILOMETRAJE\n",
       "147742  2022-08-01            6  00:00:00      NaN   NaN       0           0\n",
       "172389  2022-12-11            4  18:29:00      NaN   NaN   0,001           0"
      ]
     },
     "execution_count": 14,
     "metadata": {},
     "output_type": "execute_result"
    }
   ],
   "source": [
    "ausentes_vh = raw_diesel[raw_diesel.isna()['VEHICULO']]\n",
    "ausentes_vh"
   ]
  },
  {
   "cell_type": "markdown",
   "id": "d114c09e",
   "metadata": {},
   "source": [
    "Como se puede observar en la columna \"VEHICULO\" se encuentran datos vacíos, y tomando en cuenta la fila de \"GALONES\" y \"KILOMETRAJE\" pueden ser errores en los registros, los cuales al ser eliminados no afectan al estudio ya que los valores que registran tanto en galones como kilometraje son mínimos."
   ]
  },
  {
   "cell_type": "code",
   "execution_count": 15,
   "id": "9822e34d",
   "metadata": {},
   "outputs": [
    {
     "data": {
      "text/plain": [
       "array(['M036', 'M026', 'D015', 'D003', 'D025', 'T111', 'M020', 'D009',\n",
       "       'D030', 'D042', 'D002', 'T095', 'T033', 'M019', 'S056', 'B036',\n",
       "       'B038', 'T051', 'A114', 'B045', 'T028', 'T042', 'T005', 'T043',\n",
       "       'T003', 'D029', 'D006', 'T038', 'T029', 'D038', 'M040', 'T032',\n",
       "       'D020', 't029', 't111', 'T81', 'D004', 'D016', 'T045', 'D024',\n",
       "       'T048', 'D021', 'T019', 'T053', 'D034', 'T075', 'D033', 'T031',\n",
       "       'D010', 'A117', 'T088', 'T015', 'T037', 'COMPRESOR', 'T034',\n",
       "       'B048', 'D039', 'D040', 'T030', 'T102', 'D011', 'PMA8561',\n",
       "       'PMA7709', 'PMA7706', 'PMF780', 'PMA7390', 'PMA8560', 'PMA7727',\n",
       "       'PMA7715', 'PMA8565', 'PMA3026', 'PMA7585', 'PMA3244', 'PMA3325',\n",
       "       'PMA8566', 'PMA7158', 'PMA7728', 'PMA7393', 'PMA8567', 'PMA8557',\n",
       "       'PMA8568', 'PMA7707', 'PMA7713', 'PMA8559', 'PMA8562', 'PMA7729',\n",
       "       'PMA7718', 'PMA7712', 'PMA7708', 'PMA7719', 'PMA8570', 'PMA8564',\n",
       "       'PMA7561', 'PMA3083', 'PMA7189', 'PMA7714', 'PMA7721', 'PMA3065',\n",
       "       'PMA4518', 'PMA4545', 'PMA7582', 'PMA3323', 'PMA7720', 'PMA3053',\n",
       "       'PMA7671 ', 'PMA7672', 'PMA3322', 'PMA4544', 'PMA7716', 'PMA3249',\n",
       "       'PMA3066', 'PMF806', 'PMA4519', 'PMA7723', 'PMA7725', 'PMA7683',\n",
       "       'PMA1050', 'PMA8556', 'PMA7722', 'PMA7564', 'PMA7726', 'PMA7565',\n",
       "       'PMA3050', 'PMA7710', 'PMA7097', 'PMA7111', 'PMA7570', 'PMA8558',\n",
       "       'PMA7400', 'PMA7101', 'PMA7730', 'PMA7110', 'PMA7690', 'PMA8563',\n",
       "       'PMA3246', 'PMA7680', 'PMA7679', 'PMA7753', 'PMA8569', 'PMA7685',\n",
       "       'PMA3239', 'PMA3039', 'PMA7711', 'PMA7724', 'PMA4516', 'PMA7163',\n",
       "       'PMA7717', 'PMA7563', 'PMD501', 'PMA7154', 'PMA7436', 'PMA7433',\n",
       "       'PMA7162', 'PMA3237', 'PMA7567', 'PMA7388', 'PMA3023', 'PMA4517',\n",
       "       'PMA7394', 'P-30162', 'PMA7164', 'PMA7684', 'PMA3090', 'PMA7703',\n",
       "       'PMA3267', 'PMA706', 'PMA7106', 'PMA1052', 'PXU3026', 'PMA7598',\n",
       "       'PMF0722', 'PMA7159', 'PMA7681', 'P-4517002064', 'PMA7435',\n",
       "       'PMA8013', 'PMF777', 'PMA7559', 'PMA7156', 'PMA7586', 'PMA7692',\n",
       "       'PMA3089', 'PMA7569', 'PMA7687', 'P-G00789561', 'PMA7571',\n",
       "       'PMA7671', 'PMA7098', 'PMA7557', 'PMA7160', 'PMA7700', 'PMA7230',\n",
       "       'P-600789561', 'PMA7733', 'PMA7115', 'PMA7157', 'PMA7682',\n",
       "       'PMA7155', 'PMA3054', 'pma7717', 'PMA7114', 'PMA7562', 'PMA7113',\n",
       "       'PMA7392', 'PMA3234', 'PMA7688', 't095', 'T092', 'P-4517002065',\n",
       "       'PMA0078', 'PMA7399', 'PMA7032', 'T026', 'PME782', 'PMA3233',\n",
       "       'PMA7568', 'P-GTA8046', 'P-GTA8047', 'PMD8563', 'PMA7676',\n",
       "       'P-T00789563', 'PMF0782', 'D036', 'PMA7138', 'PMA7258', 'PMA7689',\n",
       "       'PMA872', 'PMA3707', 'P-GSS6295', 'PMA3242', 'D019', 'PMA5887',\n",
       "       'PMA5267', 'P-30179', 'P-30170', 'P-30163', 'CR002', 'P-30198',\n",
       "       'P-30164', 'PMA7698', 'PMA8047', 'p-gss6295', 'T072', 'PMA854',\n",
       "       'PMA769', 'PMF870', 'PMA7992', 'pma7692', 'P-3444', 'P-3442',\n",
       "       'P-3440', 'P-3443', 'PMA7161', 'P-3447', 'P-3441', 'P-3446',\n",
       "       'P-3445', 'PMA0501', 'pma3054', 'PMA7696', 'PMA7171', 'PMD0501',\n",
       "       'pma3323', 'PMA8463', 'P-1631', 'P-1259', 'P-ABC0999', 'PMA7588',\n",
       "       'PMA7566', 'PMF722', 'PMA7109', 'T035', nan, 'PMA7589', 'PMA7107',\n",
       "       'PME0782', 'pma4545', 'PMA7100', 'PMA7104', 'PMA3093', 'PMA4546',\n",
       "       'T112', 'PMA7581', 'PMA7102', 'PMA7699', 'T023', 'T080', 'P-34-43',\n",
       "       'P-34-42', 'PMA3055', 'P-34-41', 'P-34-40', 'PMA7878', 'P-30152',\n",
       "       'PMA7105', 'P-30171', 'PMA7389', 'PMA7112', 'PMA7391', 'PMA7917',\n",
       "       'PMA7924', 'PMA7928', 'PMA7925', 'PMA7008', 'PMA7923', 'PMA7880',\n",
       "       'PMA8571', 'PMA7093', 'PMA7912', 'PMA7921', 'PMA7882', 'P-GTA9807',\n",
       "       'PMA7926', 'PMA7929', 'PMA7913', 'PMA7911', 'PMA7879', 'PMA7931',\n",
       "       'P-1634', 'PMA7904', 'PMA7930', 'PMA7951', 'PMA7108', 'PMA3020',\n",
       "       'PMA7910', 'PMF0872', 'PMA7927', 'PMA7933', 'PMD8560', 'PMA7876',\n",
       "       'PMA7693', 'PMA7123', 'PMA5868', 'PMA9569', 'PMA7183', 'PMA7877',\n",
       "       'PMA7875', 'PMA7881', 'PMA4847', 'PMA7804', 'PMA7343', 'PMA6585',\n",
       "       'PMF0777', 'CALIBRACION', 'PMA7527', 'PMA7252', 'PMA8578',\n",
       "       'PME0182', 'PMA7754', 'PMA0224', 'PMA8596', 'PMA7802', 'PMA2233',\n",
       "       'PMA7227', 'PMA0813', 'PMA7833', 'PMA3092', 'PMA5053', 'PMA9807',\n",
       "       'PMA2432', 'PMA6881', 'PMA813', 'PMA7027', 'PMA7184', 'PMA7408',\n",
       "       'P-GSS6259', 'PMA1390', 'PMA3446', 'PMA3223', 'PMA7665', 'PMA7320',\n",
       "       'PMA5007', 'P-3448', 'P-3449', 'PMA1388', 'PMA7279', 'PMA2527',\n",
       "       'P-5007', 'P-GTA846', 'P-30191', 'PMA8285', 'PMA3787', 'PMA7600',\n",
       "       'PMA8576', 'PMA7099', 'PMF0778', 'PMA8028', 'PMA7737', 'PMA7395',\n",
       "       'PMA4524', 'PMF0806', 'PME0818', 'PMA7872', 'PMA8024', 'PMA7200',\n",
       "       'PMA7380', 'PMA7953', 'P-3046', 'P-30120', 'PMA7339', 'P-5008',\n",
       "       'PMA8023', 'PMA7778', 'T069', 'P-G556995'], dtype=object)"
      ]
     },
     "execution_count": 15,
     "metadata": {},
     "output_type": "execute_result"
    }
   ],
   "source": [
    "ausentes_flt = raw_diesel[raw_diesel.isna()['FLOTA']]\n",
    "ausentes_flt['VEHICULO'].unique()"
   ]
  },
  {
   "cell_type": "markdown",
   "id": "18d22f16",
   "metadata": {},
   "source": [
    "Se puede observar que existen varios valores que no describen un tipo de flota, en su mayoría son errores al momento de registrar las placas de los vehículos, como la \"t029\" que en el registro real si existe una \"T029\", también se puede observar que existen el registro de unidades que empiezan con una nomenclatura \"PMA\" o \"P\", esto se presenta debido a que no son unidades pertenecientes a la flota Trolebus. También se puede observar que existen unidades que han sido dadas de baja en tiempo recientes, por lo que no se encuentran registrados en una flota específica. "
   ]
  },
  {
   "cell_type": "code",
   "execution_count": 16,
   "id": "db3c72ca",
   "metadata": {},
   "outputs": [
    {
     "data": {
      "text/plain": [
       "array(['LAVTALLER', 'T073', 'D006', 'M038', 'COMPRESOR', 'A114', 'B032',\n",
       "       'M014', 'T106', 'T017', 'T004', 'PMA3053', 'PMA3026', 'PMA7672',\n",
       "       'PMA3322', 'PMA3249', 'PMA3066', 'PMF780', 'PMA3325', 'PMA8561',\n",
       "       'PMA706', 'P-600789561', 'PMA7388', 'PMA3050', 'PMA7394',\n",
       "       'PMA3039', 'PMA7717', 'PMA3267', 'D035', 'PMA7721', 'D037',\n",
       "       'P-G00789561', 'PMA3237', 'PMA7230', 'PMA8558', 'lavtaller',\n",
       "       'PMA7684', 'PMF0782', 'M011', 'B052', 'PMA7164', 'PMA3093',\n",
       "       'PMF0872', 'PMA7561', 'PME0782', 'PMA8567', 'PMA7113', 'PMA7689',\n",
       "       'PMA7878', 'PMA3239', 'PMA7108', 'PMA7699', 'PMD0501', 'P-30162',\n",
       "       'PMA7032', 'PMA7713', 'PMA8564', 'PMA7109', 'S008', 'PMA7393',\n",
       "       'V017', 'V060', 'T027'], dtype=object)"
      ]
     },
     "execution_count": 16,
     "metadata": {},
     "output_type": "execute_result"
    }
   ],
   "source": [
    "ausentes_km = raw_diesel[raw_diesel.isna()['KILOMETRAJE']]\n",
    "ausentes_km['VEHICULO'].unique()"
   ]
  },
  {
   "cell_type": "markdown",
   "id": "4e520312",
   "metadata": {},
   "source": [
    "Los datos de \"COMPRESOR\" y \"LAVTALLER\" son implementos de trabajo en los que se utiliza Diesel y no tienen recorrido en kilómetros, las unidades que empiezan con \"P\" o \"PMA\" son unidades de trabajo no pertenecientes a la empresa por lo que no se registra el kilometraje, las unidades \"T\", \"D\", \"M\", \"B\" y \"A\", se completarán los datos con la media del recorrido de la unidades y el último registro."
   ]
  },
  {
   "cell_type": "markdown",
   "id": "94eb69f9",
   "metadata": {},
   "source": [
    "# Wrangling\n",
    "\n",
    "Comenzamos a depurar nuestro dataset para no tener valores faltantes ni duplicados."
   ]
  },
  {
   "cell_type": "code",
   "execution_count": 17,
   "id": "ec63a23f",
   "metadata": {},
   "outputs": [
    {
     "name": "stdout",
     "output_type": "stream",
     "text": [
      "<class 'pandas.core.frame.DataFrame'>\n",
      "Index: 228208 entries, 0 to 228208\n",
      "Data columns (total 7 columns):\n",
      " #   Column       Non-Null Count   Dtype \n",
      "---  ------       --------------   ----- \n",
      " 0   FECHA        228208 non-null  object\n",
      " 1   DISPENSADOR  228208 non-null  int64 \n",
      " 2   HORA         228201 non-null  object\n",
      " 3   VEHICULO     228206 non-null  object\n",
      " 4   FLOTA        193573 non-null  object\n",
      " 5   GALONES      228208 non-null  object\n",
      " 6   KILOMETRAJE  227987 non-null  object\n",
      "dtypes: int64(1), object(6)\n",
      "memory usage: 13.9+ MB\n"
     ]
    }
   ],
   "source": [
    "raw_diesel = raw_diesel.drop_duplicates()\n",
    "raw_diesel.info()"
   ]
  },
  {
   "cell_type": "code",
   "execution_count": 18,
   "id": "171e0331",
   "metadata": {},
   "outputs": [
    {
     "name": "stdout",
     "output_type": "stream",
     "text": [
      "<class 'pandas.core.frame.DataFrame'>\n",
      "Index: 193437 entries, 0 to 228208\n",
      "Data columns (total 7 columns):\n",
      " #   Column       Non-Null Count   Dtype \n",
      "---  ------       --------------   ----- \n",
      " 0   FECHA        193437 non-null  object\n",
      " 1   DISPENSADOR  193437 non-null  int64 \n",
      " 2   HORA         193437 non-null  object\n",
      " 3   VEHICULO     193437 non-null  object\n",
      " 4   FLOTA        193437 non-null  object\n",
      " 5   GALONES      193437 non-null  object\n",
      " 6   KILOMETRAJE  193437 non-null  object\n",
      "dtypes: int64(1), object(6)\n",
      "memory usage: 11.8+ MB\n"
     ]
    }
   ],
   "source": [
    "raw_diesel = raw_diesel.dropna(subset=['FECHA', 'DISPENSADOR', 'HORA', 'VEHICULO', 'GALONES', 'KILOMETRAJE', 'FLOTA'])\n",
    "raw_diesel.info()"
   ]
  },
  {
   "cell_type": "code",
   "execution_count": 19,
   "id": "d7d0582d",
   "metadata": {},
   "outputs": [],
   "source": [
    "raw_diesel['KILOMETRAJE'] = raw_diesel['KILOMETRAJE'].astype(str).str.replace('.', '', regex=False).str.replace(',', '.', regex=False)\n",
    "raw_diesel['KILOMETRAJE'] = pd.to_numeric(raw_diesel['KILOMETRAJE'], errors='coerce')"
   ]
  },
  {
   "cell_type": "code",
   "execution_count": 20,
   "id": "989e22b0",
   "metadata": {},
   "outputs": [
    {
     "name": "stdout",
     "output_type": "stream",
     "text": [
      "<class 'pandas.core.frame.DataFrame'>\n",
      "Index: 193437 entries, 0 to 228208\n",
      "Data columns (total 7 columns):\n",
      " #   Column       Non-Null Count   Dtype  \n",
      "---  ------       --------------   -----  \n",
      " 0   FECHA        193437 non-null  object \n",
      " 1   DISPENSADOR  193437 non-null  int64  \n",
      " 2   HORA         193437 non-null  object \n",
      " 3   VEHICULO     193437 non-null  object \n",
      " 4   FLOTA        193437 non-null  object \n",
      " 5   GALONES      193437 non-null  object \n",
      " 6   KILOMETRAJE  193391 non-null  float64\n",
      "dtypes: float64(1), int64(1), object(5)\n",
      "memory usage: 11.8+ MB\n"
     ]
    }
   ],
   "source": [
    "raw_diesel.info()"
   ]
  },
  {
   "cell_type": "code",
   "execution_count": 21,
   "id": "a1d784d4",
   "metadata": {},
   "outputs": [
    {
     "name": "stdout",
     "output_type": "stream",
     "text": [
      "<class 'pandas.core.frame.DataFrame'>\n",
      "Index: 193391 entries, 0 to 228208\n",
      "Data columns (total 7 columns):\n",
      " #   Column       Non-Null Count   Dtype  \n",
      "---  ------       --------------   -----  \n",
      " 0   FECHA        193391 non-null  object \n",
      " 1   DISPENSADOR  193391 non-null  int64  \n",
      " 2   HORA         193391 non-null  object \n",
      " 3   VEHICULO     193391 non-null  object \n",
      " 4   FLOTA        193391 non-null  object \n",
      " 5   GALONES      193391 non-null  object \n",
      " 6   KILOMETRAJE  193391 non-null  float64\n",
      "dtypes: float64(1), int64(1), object(5)\n",
      "memory usage: 11.8+ MB\n"
     ]
    }
   ],
   "source": [
    "raw_diesel = raw_diesel.dropna(subset=['KILOMETRAJE', 'DISPENSADOR', 'GALONES'])\n",
    "raw_diesel.info()"
   ]
  },
  {
   "cell_type": "code",
   "execution_count": 22,
   "id": "fa3defba",
   "metadata": {},
   "outputs": [
    {
     "name": "stdout",
     "output_type": "stream",
     "text": [
      "<class 'pandas.core.frame.DataFrame'>\n",
      "Index: 193391 entries, 0 to 228208\n",
      "Data columns (total 7 columns):\n",
      " #   Column       Non-Null Count   Dtype         \n",
      "---  ------       --------------   -----         \n",
      " 0   FECHA        193391 non-null  datetime64[ns]\n",
      " 1   DISPENSADOR  193391 non-null  int64         \n",
      " 2   HORA         193391 non-null  object        \n",
      " 3   VEHICULO     193391 non-null  object        \n",
      " 4   FLOTA        193391 non-null  object        \n",
      " 5   GALONES      193391 non-null  object        \n",
      " 6   KILOMETRAJE  193391 non-null  float64       \n",
      "dtypes: datetime64[ns](1), float64(1), int64(1), object(4)\n",
      "memory usage: 11.8+ MB\n"
     ]
    }
   ],
   "source": [
    "raw_diesel['FECHA'] = pd.to_datetime(raw_diesel['FECHA'], errors='coerce')\n",
    "raw_diesel = raw_diesel.dropna(subset=['FECHA'])\n",
    "raw_diesel.info()"
   ]
  },
  {
   "cell_type": "code",
   "execution_count": 23,
   "id": "42ea3ad8",
   "metadata": {},
   "outputs": [
    {
     "data": {
      "text/html": [
       "<div>\n",
       "<style scoped>\n",
       "    .dataframe tbody tr th:only-of-type {\n",
       "        vertical-align: middle;\n",
       "    }\n",
       "\n",
       "    .dataframe tbody tr th {\n",
       "        vertical-align: top;\n",
       "    }\n",
       "\n",
       "    .dataframe thead th {\n",
       "        text-align: right;\n",
       "    }\n",
       "</style>\n",
       "<table border=\"1\" class=\"dataframe\">\n",
       "  <thead>\n",
       "    <tr style=\"text-align: right;\">\n",
       "      <th></th>\n",
       "      <th>FECHA</th>\n",
       "      <th>DISPENSADOR</th>\n",
       "      <th>HORA</th>\n",
       "      <th>VEHICULO</th>\n",
       "      <th>FLOTA</th>\n",
       "      <th>GALONES</th>\n",
       "      <th>KILOMETRAJE</th>\n",
       "      <th>AÑO</th>\n",
       "    </tr>\n",
       "  </thead>\n",
       "  <tbody>\n",
       "    <tr>\n",
       "      <th>0</th>\n",
       "      <td>2020-01-01</td>\n",
       "      <td>1</td>\n",
       "      <td>10:35:00</td>\n",
       "      <td>S024</td>\n",
       "      <td>B12M</td>\n",
       "      <td>53,568</td>\n",
       "      <td>411475.8</td>\n",
       "      <td>2020</td>\n",
       "    </tr>\n",
       "    <tr>\n",
       "      <th>1</th>\n",
       "      <td>2020-01-01</td>\n",
       "      <td>1</td>\n",
       "      <td>12:12:00</td>\n",
       "      <td>S029</td>\n",
       "      <td>B12M</td>\n",
       "      <td>54,197</td>\n",
       "      <td>479353.4</td>\n",
       "      <td>2020</td>\n",
       "    </tr>\n",
       "    <tr>\n",
       "      <th>2</th>\n",
       "      <td>2020-01-01</td>\n",
       "      <td>1</td>\n",
       "      <td>12:20:00</td>\n",
       "      <td>S011</td>\n",
       "      <td>B12M</td>\n",
       "      <td>56,556</td>\n",
       "      <td>463696.8</td>\n",
       "      <td>2020</td>\n",
       "    </tr>\n",
       "    <tr>\n",
       "      <th>3</th>\n",
       "      <td>2020-01-01</td>\n",
       "      <td>1</td>\n",
       "      <td>13:10:00</td>\n",
       "      <td>S074</td>\n",
       "      <td>B12M</td>\n",
       "      <td>65,614</td>\n",
       "      <td>451279.5</td>\n",
       "      <td>2020</td>\n",
       "    </tr>\n",
       "    <tr>\n",
       "      <th>4</th>\n",
       "      <td>2020-01-01</td>\n",
       "      <td>1</td>\n",
       "      <td>13:30:00</td>\n",
       "      <td>S015</td>\n",
       "      <td>B12M</td>\n",
       "      <td>42,879</td>\n",
       "      <td>418781.5</td>\n",
       "      <td>2020</td>\n",
       "    </tr>\n",
       "    <tr>\n",
       "      <th>...</th>\n",
       "      <td>...</td>\n",
       "      <td>...</td>\n",
       "      <td>...</td>\n",
       "      <td>...</td>\n",
       "      <td>...</td>\n",
       "      <td>...</td>\n",
       "      <td>...</td>\n",
       "      <td>...</td>\n",
       "    </tr>\n",
       "    <tr>\n",
       "      <th>228204</th>\n",
       "      <td>2023-09-20</td>\n",
       "      <td>6</td>\n",
       "      <td>13:36:00</td>\n",
       "      <td>V064</td>\n",
       "      <td>BI ARTICULADOS</td>\n",
       "      <td>47,218</td>\n",
       "      <td>202419.3</td>\n",
       "      <td>2023</td>\n",
       "    </tr>\n",
       "    <tr>\n",
       "      <th>228205</th>\n",
       "      <td>2023-09-20</td>\n",
       "      <td>6</td>\n",
       "      <td>14:20:00</td>\n",
       "      <td>V017</td>\n",
       "      <td>BI ARTICULADOS</td>\n",
       "      <td>86,447</td>\n",
       "      <td>371091.3</td>\n",
       "      <td>2023</td>\n",
       "    </tr>\n",
       "    <tr>\n",
       "      <th>228206</th>\n",
       "      <td>2023-09-20</td>\n",
       "      <td>6</td>\n",
       "      <td>15:07:00</td>\n",
       "      <td>S080</td>\n",
       "      <td>B12M</td>\n",
       "      <td>66,144</td>\n",
       "      <td>642887.3</td>\n",
       "      <td>2023</td>\n",
       "    </tr>\n",
       "    <tr>\n",
       "      <th>228207</th>\n",
       "      <td>2023-09-20</td>\n",
       "      <td>6</td>\n",
       "      <td>17:57:00</td>\n",
       "      <td>S021</td>\n",
       "      <td>B12M</td>\n",
       "      <td>75,081</td>\n",
       "      <td>671721.3</td>\n",
       "      <td>2023</td>\n",
       "    </tr>\n",
       "    <tr>\n",
       "      <th>228208</th>\n",
       "      <td>2023-09-20</td>\n",
       "      <td>6</td>\n",
       "      <td>19:15:00</td>\n",
       "      <td>S006</td>\n",
       "      <td>B12M</td>\n",
       "      <td>48,395</td>\n",
       "      <td>480303.2</td>\n",
       "      <td>2023</td>\n",
       "    </tr>\n",
       "  </tbody>\n",
       "</table>\n",
       "<p>193391 rows × 8 columns</p>\n",
       "</div>"
      ],
      "text/plain": [
       "            FECHA  DISPENSADOR      HORA VEHICULO           FLOTA GALONES  \\\n",
       "0      2020-01-01            1  10:35:00     S024            B12M  53,568   \n",
       "1      2020-01-01            1  12:12:00     S029            B12M  54,197   \n",
       "2      2020-01-01            1  12:20:00     S011            B12M  56,556   \n",
       "3      2020-01-01            1  13:10:00     S074            B12M  65,614   \n",
       "4      2020-01-01            1  13:30:00     S015            B12M  42,879   \n",
       "...           ...          ...       ...      ...             ...     ...   \n",
       "228204 2023-09-20            6  13:36:00     V064  BI ARTICULADOS  47,218   \n",
       "228205 2023-09-20            6  14:20:00     V017  BI ARTICULADOS  86,447   \n",
       "228206 2023-09-20            6  15:07:00     S080            B12M  66,144   \n",
       "228207 2023-09-20            6  17:57:00     S021            B12M  75,081   \n",
       "228208 2023-09-20            6  19:15:00     S006            B12M  48,395   \n",
       "\n",
       "        KILOMETRAJE   AÑO  \n",
       "0          411475.8  2020  \n",
       "1          479353.4  2020  \n",
       "2          463696.8  2020  \n",
       "3          451279.5  2020  \n",
       "4          418781.5  2020  \n",
       "...             ...   ...  \n",
       "228204     202419.3  2023  \n",
       "228205     371091.3  2023  \n",
       "228206     642887.3  2023  \n",
       "228207     671721.3  2023  \n",
       "228208     480303.2  2023  \n",
       "\n",
       "[193391 rows x 8 columns]"
      ]
     },
     "execution_count": 23,
     "metadata": {},
     "output_type": "execute_result"
    }
   ],
   "source": [
    "raw_diesel['AÑO'] = raw_diesel['FECHA'].dt.year\n",
    "raw_diesel"
   ]
  },
  {
   "cell_type": "code",
   "execution_count": 24,
   "id": "3daf2ae0",
   "metadata": {},
   "outputs": [
    {
     "name": "stdout",
     "output_type": "stream",
     "text": [
      "<class 'pandas.core.frame.DataFrame'>\n",
      "DatetimeIndex: 193391 entries, 2020-01-01 to 2023-09-20\n",
      "Data columns (total 7 columns):\n",
      " #   Column       Non-Null Count   Dtype  \n",
      "---  ------       --------------   -----  \n",
      " 0   DISPENSADOR  193391 non-null  int64  \n",
      " 1   HORA         193391 non-null  object \n",
      " 2   VEHICULO     193391 non-null  object \n",
      " 3   FLOTA        193391 non-null  object \n",
      " 4   GALONES      193391 non-null  object \n",
      " 5   KILOMETRAJE  193391 non-null  float64\n",
      " 6   AÑO          193391 non-null  int32  \n",
      "dtypes: float64(1), int32(1), int64(1), object(4)\n",
      "memory usage: 11.1+ MB\n"
     ]
    }
   ],
   "source": [
    "raw_diesel['FECHA'] = pd.to_datetime(raw_diesel['FECHA'])\n",
    "raw_diesel = raw_diesel.sort_values(by='FECHA')\n",
    "raw_diesel.set_index('FECHA', inplace=True)\n",
    "raw_diesel.info()"
   ]
  },
  {
   "cell_type": "code",
   "execution_count": 25,
   "id": "ffec2a6f",
   "metadata": {},
   "outputs": [
    {
     "data": {
      "image/png": "[encoded data removed]",
      "text/plain": [
       "<Figure size 640x480 with 1 Axes>"
      ]
     },
     "metadata": {},
     "output_type": "display_data"
    }
   ],
   "source": [
    "raw_diesel['KILOMETRAJE'].plot(title= 'Recorrido', xlabel= 'FECHA', ylabel='KILOMETRAJE')\n",
    "plt.grid(True)\n",
    "plt.show()"
   ]
  },
  {
   "cell_type": "code",
   "execution_count": 26,
   "id": "b57ddc21",
   "metadata": {},
   "outputs": [
    {
     "data": {
      "text/plain": [
       "<Axes: title={'center': 'Consumo Diario'}, xlabel='FECHA', ylabel='GALONES'>"
      ]
     },
     "execution_count": 26,
     "metadata": {},
     "output_type": "execute_result"
    },
    {
     "data": {
      "image/png": "[encoded data removed]",
      "text/plain": [
       "<Figure size 640x480 with 1 Axes>"
      ]
     },
     "metadata": {},
     "output_type": "display_data"
    }
   ],
   "source": [
    "raw_diesel_diario = raw_diesel['KILOMETRAJE'].resample('1D').sum()\n",
    "raw_diesel_diario.plot(title = 'Consumo Diario', xlabel = 'FECHA', ylabel = 'GALONES')"
   ]
  },
  {
   "cell_type": "code",
   "execution_count": 27,
   "id": "71088f0a",
   "metadata": {},
   "outputs": [
    {
     "data": {
      "text/plain": [
       "<Axes: title={'center': 'Consumo Mensual'}, xlabel='FECHA', ylabel='GALONES'>"
      ]
     },
     "execution_count": 27,
     "metadata": {},
     "output_type": "execute_result"
    },
    {
     "data": {
      "image/png": "[encoded data removed]",
      "text/plain": [
       "<Figure size 640x480 with 1 Axes>"
      ]
     },
     "metadata": {},
     "output_type": "display_data"
    }
   ],
   "source": [
    "raw_diesel_mensual = raw_diesel['KILOMETRAJE'].resample('1ME').sum()\n",
    "raw_diesel_mensual.plot(title = 'Consumo Mensual', xlabel = 'FECHA', ylabel = 'GALONES')"
   ]
  }
 ],
 "metadata": {
  "kernelspec": {
   "display_name": "base",
   "language": "python",
   "name": "python3"
  },
  "language_info": {
   "codemirror_mode": {
    "name": "ipython",
    "version": 3
   },
   "file_extension": ".py",
   "mimetype": "text/x-python",
   "name": "python",
   "nbconvert_exporter": "python",
   "pygments_lexer": "ipython3",
   "version": "3.12.7"
  }
 },
 "nbformat": 4,
 "nbformat_minor": 5
}
